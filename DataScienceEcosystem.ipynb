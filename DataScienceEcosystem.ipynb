{
 "cells": [
  {
   "cell_type": "markdown",
   "id": "c52c2557",
   "metadata": {},
   "source": [
    "# Data Science Tools and Ecosystem"
   ]
  },
  {
   "cell_type": "markdown",
   "id": "c9817f6d",
   "metadata": {},
   "source": [
    "In this notebook, Data Science Tools and Ecosystem are summarized."
   ]
  },
  {
   "cell_type": "markdown",
   "id": "4228f516",
   "metadata": {},
   "source": [
    "**Objectives**\n",
    "+ popular languages of data science are: python, R, java\n",
    "+ data science ecosystem consists of many open source and commercial options\n",
    "+ include both traditional desktop applications and server-based tools\n",
    "+ cloud-based services that can be accessed using web-browsers and mobile interfaces."
   ]
  },
  {
   "cell_type": "markdown",
   "id": "73496f6e",
   "metadata": {},
   "source": [
    "Some of the popular languages that Data Scientists use are:\n",
    "\n",
    "    1. python\n",
    "    2. R\n",
    "    3. java "
   ]
  },
  {
   "cell_type": "markdown",
   "id": "18c3397a",
   "metadata": {},
   "source": [
    "Some of the commonly used libraries used by Data Scientists include:\n",
    "\n",
    "1. Numpy\n",
    "2. padas\n",
    "3. matplotlib\n",
    "\n"
   ]
  },
  {
   "cell_type": "markdown",
   "id": "e7144d01",
   "metadata": {},
   "source": [
    "| Data Science Tools |\n",
    "|---------------------------|\n",
    "| Jupyter Notebook |\n",
    "| R studios |\n",
    "| Apache Spark |"
   ]
  },
  {
   "cell_type": "markdown",
   "id": "35242cae",
   "metadata": {},
   "source": [
    "### Below are a few examples of evaluating arithmetic expressions in Python"
   ]
  },
  {
   "cell_type": "code",
   "execution_count": 3,
   "id": "0ab07f0d",
   "metadata": {},
   "outputs": [
    {
     "data": {
      "text/plain": [
       "17"
      ]
     },
     "execution_count": 3,
     "metadata": {},
     "output_type": "execute_result"
    }
   ],
   "source": [
    "(3*4)+5\n",
    "#This a simple arithmetic expression to mutiply then add integers"
   ]
  },
  {
   "cell_type": "code",
   "execution_count": 5,
   "id": "b8e99ab9",
   "metadata": {},
   "outputs": [
    {
     "name": "stdout",
     "output_type": "stream",
     "text": [
      "3:20\n"
     ]
    }
   ],
   "source": [
    "minutes = 200\n",
    "\n",
    "hours = minutes // 60\n",
    "\n",
    "minutes = minutes% 60\n",
    "\n",
    "\n",
    "time = \"{}:{}\".format(hours, minutes)\n",
    "\n",
    "print(time)\n",
    "\n",
    "#This will convert 200 minutes to hours by diving by 60"
   ]
  },
  {
   "cell_type": "markdown",
   "id": "856492ef",
   "metadata": {},
   "source": [
    "## Author\n",
    "Utkarsh Kumar"
   ]
  },
  {
   "cell_type": "code",
   "execution_count": null,
   "id": "54b54e7b",
   "metadata": {},
   "outputs": [],
   "source": []
  }
 ],
 "metadata": {
  "kernelspec": {
   "display_name": "Python 3 (ipykernel)",
   "language": "python",
   "name": "python3"
  },
  "language_info": {
   "codemirror_mode": {
    "name": "ipython",
    "version": 3
   },
   "file_extension": ".py",
   "mimetype": "text/x-python",
   "name": "python",
   "nbconvert_exporter": "python",
   "pygments_lexer": "ipython3",
   "version": "3.11.4"
  }
 },
 "nbformat": 4,
 "nbformat_minor": 5
}
